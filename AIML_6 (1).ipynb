{
  "nbformat": 4,
  "nbformat_minor": 0,
  "metadata": {
    "colab": {
      "provenance": []
    },
    "kernelspec": {
      "name": "python3",
      "display_name": "Python 3"
    },
    "language_info": {
      "name": "python"
    }
  },
  "cells": [
    {
      "cell_type": "code",
      "execution_count": 14,
      "metadata": {
        "colab": {
          "base_uri": "https://localhost:8080/"
        },
        "id": "4EvvlggYhi9S",
        "outputId": "db8ad371-b7c0-4838-96c1-1619a43be2e1"
      },
      "outputs": [
        {
          "output_type": "stream",
          "name": "stdout",
          "text": [
            "     Age  Gender  Protein1  Protein2  Protein3  Protein4 Tumour_Stage  \\\n",
            "0     42  FEMALE  0.952560   2.15000  0.007972 -0.048340           II   \n",
            "1     54  FEMALE  0.000000   1.38020 -0.498030 -0.507320           II   \n",
            "2     63  FEMALE -0.523030   1.76400 -0.370190  0.010815           II   \n",
            "3     78  FEMALE -0.876180   0.12943 -0.370380  0.132190            I   \n",
            "4     42  FEMALE  0.226110   1.74910 -0.543970 -0.390210           II   \n",
            "..   ...     ...       ...       ...       ...       ...          ...   \n",
            "329   59  FEMALE  0.024598   1.40050  0.024751  0.280320           II   \n",
            "330   41  FEMALE  0.100120  -0.46547  0.472370 -0.523870            I   \n",
            "331   54  FEMALE  0.753820   1.64250 -0.332850  0.857860           II   \n",
            "332   74  FEMALE  0.972510   1.42680 -0.366570 -0.107820           II   \n",
            "333   66  FEMALE  0.286380   1.39980  0.318830  0.836050           II   \n",
            "\n",
            "                          Histology ER status PR status HER2 status  \\\n",
            "0     Infiltrating Ductal Carcinoma  Positive  Positive    Negative   \n",
            "1     Infiltrating Ductal Carcinoma  Positive  Positive    Negative   \n",
            "2     Infiltrating Ductal Carcinoma  Positive  Positive    Negative   \n",
            "3     Infiltrating Ductal Carcinoma  Positive  Positive    Negative   \n",
            "4     Infiltrating Ductal Carcinoma  Positive  Positive    Positive   \n",
            "..                              ...       ...       ...         ...   \n",
            "329   Infiltrating Ductal Carcinoma  Positive  Positive    Positive   \n",
            "330   Infiltrating Ductal Carcinoma  Positive  Positive    Positive   \n",
            "331   Infiltrating Ductal Carcinoma  Positive  Positive    Negative   \n",
            "332  Infiltrating Lobular Carcinoma  Positive  Positive    Negative   \n",
            "333   Infiltrating Ductal Carcinoma  Positive  Positive    Negative   \n",
            "\n",
            "                    Surgery_type Date_of_Surgery Date_of_Last_Visit  \\\n",
            "0                          Other       20-May-18          26-Aug-18   \n",
            "1                          Other       26-Apr-18          25-Jan-19   \n",
            "2                     Lumpectomy       24-Aug-18          08-Apr-20   \n",
            "3                          Other       16-Nov-18          28-Jul-20   \n",
            "4                     Lumpectomy       12-Dec-18          05-Jan-19   \n",
            "..                           ...             ...                ...   \n",
            "329                   Lumpectomy       15-Jan-19          27-Mar-20   \n",
            "330  Modified Radical Mastectomy       25-Jul-18          23-Apr-19   \n",
            "331            Simple Mastectomy       26-Mar-19          11-Oct-19   \n",
            "332                   Lumpectomy       26-Nov-18          05-Dec-18   \n",
            "333  Modified Radical Mastectomy       04-Feb-19          10-Aug-19   \n",
            "\n",
            "    Patient_Status  \n",
            "0            Alive  \n",
            "1             Dead  \n",
            "2            Alive  \n",
            "3            Alive  \n",
            "4            Alive  \n",
            "..             ...  \n",
            "329          Alive  \n",
            "330          Alive  \n",
            "331           Dead  \n",
            "332          Alive  \n",
            "333           Dead  \n",
            "\n",
            "[334 rows x 15 columns]\n",
            "Age                     int64\n",
            "Gender                 object\n",
            "Protein1              float64\n",
            "Protein2              float64\n",
            "Protein3              float64\n",
            "Protein4              float64\n",
            "Tumour_Stage           object\n",
            "Histology              object\n",
            "ER status              object\n",
            "PR status              object\n",
            "HER2 status            object\n",
            "Surgery_type           object\n",
            "Date_of_Surgery        object\n",
            "Date_of_Last_Visit     object\n",
            "Patient_Status         object\n",
            "dtype: object\n"
          ]
        }
      ],
      "source": [
        "import pandas as pd\n",
        "d=pd.read_csv('/content/breast_cancer_survival.csv')\n",
        "print(d)\n",
        "d.dropna()\n",
        "print(d.dtypes)"
      ]
    },
    {
      "cell_type": "code",
      "source": [
        "d['Gender'] = d['Gender'].map({'FEMALE': 0, 'MALE': 1})\n",
        "d['Tumour_Stage'] = d['Tumour_Stage'].map({'I': 1, 'II': 2, 'III': 3})\n",
        "d['Histology'] = d['Histology'].factorize()[0]\n",
        "d['ER status'] = d['ER status'].map({'Positive': 1, 'Negative': 0})\n",
        "d['PR status'] = d['PR status'].map({'Positive': 1, 'Negative': 0})\n",
        "d['HER2 status'] = d['HER2 status'].map({'Positive': 1, 'Negative': 0})\n",
        "d['Surgery_type'] = d['Surgery_type'].factorize()[0]\n",
        "d['Patient_Status'] = d['Patient_Status'].map({'Alive': 1, 'Dead': 0})\n",
        "d['Date_of_Surgery']=d['Date_of_Surgery'].map({'20-May-18':0,'26-Apr-18':1,'24-Aug-18':2,'16-Nov-18':3,'12-Dec-18':4,'15-Jan-19':5,'25-Jul-18':6,'26-Mar-19':7,'26-Nov-18':8,'04-Feb-19':9})\n",
        "d['Date_of_Last_Visit']=d['Date_of_Last_Visit'].map({'26-Aug-18':0,'25-Jan-19':1,'08-Apr-20':2,'28-Jul-20':3,'05-Jan-19':4,'27-Mar-20':5,'23-Apr-19':6,'11-Oct-19':7,'05-Dec-18':8,'10-Aug-19':9})\n",
        "print(d)"
      ],
      "metadata": {
        "colab": {
          "base_uri": "https://localhost:8080/"
        },
        "id": "qzDzrfLsh64-",
        "outputId": "91d4eb43-b2e5-4883-c212-2d80643428eb"
      },
      "execution_count": 15,
      "outputs": [
        {
          "output_type": "stream",
          "name": "stdout",
          "text": [
            "     Age  Gender  Protein1  Protein2  Protein3  Protein4  Tumour_Stage  \\\n",
            "0     42       0  0.952560   2.15000  0.007972 -0.048340             2   \n",
            "1     54       0  0.000000   1.38020 -0.498030 -0.507320             2   \n",
            "2     63       0 -0.523030   1.76400 -0.370190  0.010815             2   \n",
            "3     78       0 -0.876180   0.12943 -0.370380  0.132190             1   \n",
            "4     42       0  0.226110   1.74910 -0.543970 -0.390210             2   \n",
            "..   ...     ...       ...       ...       ...       ...           ...   \n",
            "329   59       0  0.024598   1.40050  0.024751  0.280320             2   \n",
            "330   41       0  0.100120  -0.46547  0.472370 -0.523870             1   \n",
            "331   54       0  0.753820   1.64250 -0.332850  0.857860             2   \n",
            "332   74       0  0.972510   1.42680 -0.366570 -0.107820             2   \n",
            "333   66       0  0.286380   1.39980  0.318830  0.836050             2   \n",
            "\n",
            "     Histology  ER status  PR status  HER2 status  Surgery_type  \\\n",
            "0            0          1          1            0             0   \n",
            "1            0          1          1            0             0   \n",
            "2            0          1          1            0             1   \n",
            "3            0          1          1            0             0   \n",
            "4            0          1          1            1             1   \n",
            "..         ...        ...        ...          ...           ...   \n",
            "329          0          1          1            1             1   \n",
            "330          0          1          1            1             2   \n",
            "331          0          1          1            0             3   \n",
            "332          1          1          1            0             1   \n",
            "333          0          1          1            0             2   \n",
            "\n",
            "     Date_of_Surgery  Date_of_Last_Visit  Patient_Status  \n",
            "0                0.0                 0.0             1.0  \n",
            "1                1.0                 1.0             0.0  \n",
            "2                2.0                 2.0             1.0  \n",
            "3                3.0                 3.0             1.0  \n",
            "4                4.0                 4.0             1.0  \n",
            "..               ...                 ...             ...  \n",
            "329              5.0                 5.0             1.0  \n",
            "330              6.0                 6.0             1.0  \n",
            "331              7.0                 7.0             0.0  \n",
            "332              8.0                 8.0             1.0  \n",
            "333              9.0                 9.0             0.0  \n",
            "\n",
            "[334 rows x 15 columns]\n"
          ]
        }
      ]
    },
    {
      "cell_type": "code",
      "source": [
        "y=d['Patient_Status']\n",
        "print(y)"
      ],
      "metadata": {
        "colab": {
          "base_uri": "https://localhost:8080/"
        },
        "id": "i493ZxNIh9MX",
        "outputId": "c4d0e619-d710-40c5-8fdb-33806a4c748b"
      },
      "execution_count": 16,
      "outputs": [
        {
          "output_type": "stream",
          "name": "stdout",
          "text": [
            "0      1.0\n",
            "1      0.0\n",
            "2      1.0\n",
            "3      1.0\n",
            "4      1.0\n",
            "      ... \n",
            "329    1.0\n",
            "330    1.0\n",
            "331    0.0\n",
            "332    1.0\n",
            "333    0.0\n",
            "Name: Patient_Status, Length: 334, dtype: float64\n"
          ]
        }
      ]
    },
    {
      "cell_type": "code",
      "source": [
        "x=d.drop(['Patient_Status'],axis=1)\n",
        "print(x)"
      ],
      "metadata": {
        "colab": {
          "base_uri": "https://localhost:8080/"
        },
        "id": "jPKGougTimp-",
        "outputId": "a93bee63-5345-492c-d589-ed0204bc5f0b"
      },
      "execution_count": 17,
      "outputs": [
        {
          "output_type": "stream",
          "name": "stdout",
          "text": [
            "     Age  Gender  Protein1  Protein2  Protein3  Protein4  Tumour_Stage  \\\n",
            "0     42       0  0.952560   2.15000  0.007972 -0.048340             2   \n",
            "1     54       0  0.000000   1.38020 -0.498030 -0.507320             2   \n",
            "2     63       0 -0.523030   1.76400 -0.370190  0.010815             2   \n",
            "3     78       0 -0.876180   0.12943 -0.370380  0.132190             1   \n",
            "4     42       0  0.226110   1.74910 -0.543970 -0.390210             2   \n",
            "..   ...     ...       ...       ...       ...       ...           ...   \n",
            "329   59       0  0.024598   1.40050  0.024751  0.280320             2   \n",
            "330   41       0  0.100120  -0.46547  0.472370 -0.523870             1   \n",
            "331   54       0  0.753820   1.64250 -0.332850  0.857860             2   \n",
            "332   74       0  0.972510   1.42680 -0.366570 -0.107820             2   \n",
            "333   66       0  0.286380   1.39980  0.318830  0.836050             2   \n",
            "\n",
            "     Histology  ER status  PR status  HER2 status  Surgery_type  \\\n",
            "0            0          1          1            0             0   \n",
            "1            0          1          1            0             0   \n",
            "2            0          1          1            0             1   \n",
            "3            0          1          1            0             0   \n",
            "4            0          1          1            1             1   \n",
            "..         ...        ...        ...          ...           ...   \n",
            "329          0          1          1            1             1   \n",
            "330          0          1          1            1             2   \n",
            "331          0          1          1            0             3   \n",
            "332          1          1          1            0             1   \n",
            "333          0          1          1            0             2   \n",
            "\n",
            "     Date_of_Surgery  Date_of_Last_Visit  \n",
            "0                0.0                 0.0  \n",
            "1                1.0                 1.0  \n",
            "2                2.0                 2.0  \n",
            "3                3.0                 3.0  \n",
            "4                4.0                 4.0  \n",
            "..               ...                 ...  \n",
            "329              5.0                 5.0  \n",
            "330              6.0                 6.0  \n",
            "331              7.0                 7.0  \n",
            "332              8.0                 8.0  \n",
            "333              9.0                 9.0  \n",
            "\n",
            "[334 rows x 14 columns]\n"
          ]
        }
      ]
    },
    {
      "cell_type": "code",
      "source": [
        "summary = d.describe(percentiles=[.25, .5, .75, .90])\n",
        "print(summary)"
      ],
      "metadata": {
        "colab": {
          "base_uri": "https://localhost:8080/"
        },
        "id": "2qXhLVAOjLs2",
        "outputId": "c3619098-e2d7-4d17-a0cf-2ac70fc59ec7"
      },
      "execution_count": 18,
      "outputs": [
        {
          "output_type": "stream",
          "name": "stdout",
          "text": [
            "              Age      Gender    Protein1    Protein2    Protein3    Protein4  \\\n",
            "count  334.000000  334.000000  334.000000  334.000000  334.000000  334.000000   \n",
            "mean    58.886228    0.011976   -0.029991    0.946896   -0.090204    0.009819   \n",
            "std     12.961212    0.108941    0.563588    0.911637    0.585175    0.629055   \n",
            "min     29.000000    0.000000   -2.340900   -0.978730   -1.627400   -2.025500   \n",
            "25%     49.000000    0.000000   -0.358888    0.362173   -0.513748   -0.377090   \n",
            "50%     58.000000    0.000000    0.006129    0.992805   -0.173180    0.041768   \n",
            "75%     68.000000    0.000000    0.343598    1.627900    0.278353    0.425630   \n",
            "90%     77.700000    0.000000    0.656522    2.055690    0.682048    0.786222   \n",
            "max     90.000000    1.000000    1.593600    3.402200    2.193400    1.629900   \n",
            "\n",
            "       Tumour_Stage   Histology  ER status  PR status  HER2 status  \\\n",
            "count    334.000000  334.000000      334.0      334.0   334.000000   \n",
            "mean       2.050898    0.338323        1.0        1.0     0.086826   \n",
            "std        0.657904    0.544615        0.0        0.0     0.282003   \n",
            "min        1.000000    0.000000        1.0        1.0     0.000000   \n",
            "25%        2.000000    0.000000        1.0        1.0     0.000000   \n",
            "50%        2.000000    0.000000        1.0        1.0     0.000000   \n",
            "75%        2.000000    1.000000        1.0        1.0     0.000000   \n",
            "90%        3.000000    1.000000        1.0        1.0     0.000000   \n",
            "max        3.000000    2.000000        1.0        1.0     1.000000   \n",
            "\n",
            "       Surgery_type  Date_of_Surgery  Date_of_Last_Visit  Patient_Status  \n",
            "count    334.000000        28.000000           12.000000      321.000000  \n",
            "mean       1.374251         5.000000            4.583333        0.794393  \n",
            "std        1.126021         2.905933            2.778434        0.404776  \n",
            "min        0.000000         0.000000            0.000000        0.000000  \n",
            "25%        0.000000         3.000000            2.750000        1.000000  \n",
            "50%        1.000000         5.000000            4.500000        1.000000  \n",
            "75%        2.000000         8.000000            6.250000        1.000000  \n",
            "90%        3.000000         8.300000            7.900000        1.000000  \n",
            "max        3.000000         9.000000            9.000000        1.000000  \n"
          ]
        }
      ]
    },
    {
      "cell_type": "code",
      "source": [
        "features=d.columns\n",
        "print(features)\n"
      ],
      "metadata": {
        "colab": {
          "base_uri": "https://localhost:8080/"
        },
        "id": "_zB3iExmjQPM",
        "outputId": "aaf91dc3-2e8d-4a1a-9dc2-7a2ce0df490d"
      },
      "execution_count": 19,
      "outputs": [
        {
          "output_type": "stream",
          "name": "stdout",
          "text": [
            "Index(['Age', 'Gender', 'Protein1', 'Protein2', 'Protein3', 'Protein4',\n",
            "       'Tumour_Stage', 'Histology', 'ER status', 'PR status', 'HER2 status',\n",
            "       'Surgery_type', 'Date_of_Surgery', 'Date_of_Last_Visit',\n",
            "       'Patient_Status'],\n",
            "      dtype='object')\n"
          ]
        }
      ]
    },
    {
      "cell_type": "code",
      "source": [
        "from sklearn.preprocessing import StandardScaler\n",
        "scaler = StandardScaler()\n",
        "scaler.fit(x)\n",
        "x=scaler.transform(x)\n",
        "print(x)"
      ],
      "metadata": {
        "colab": {
          "base_uri": "https://localhost:8080/"
        },
        "id": "DalNDzUijmpG",
        "outputId": "7c1fbfe6-fac5-476e-f93a-f8f23b8c9a18"
      },
      "execution_count": 20,
      "outputs": [
        {
          "output_type": "stream",
          "name": "stdout",
          "text": [
            "[[-1.30478252 -0.11009638  1.74600153 ... -1.22228024 -1.75219161\n",
            "  -1.7229616 ]\n",
            " [-0.37755409 -0.11009638  0.05329463 ... -1.22228024 -1.40175329\n",
            "  -1.3470427 ]\n",
            " [ 0.31786723 -0.11009638 -0.87613395 ... -0.33286499 -1.05131497\n",
            "  -0.97112381]\n",
            " ...\n",
            " [-0.37755409 -0.11009638  1.39283893 ...  1.44596551  0.70087664\n",
            "   0.90847066]\n",
            " [ 1.16782663 -0.11009638  1.78145285 ... -0.33286499  1.05131497\n",
            "   1.28438955]\n",
            " [ 0.54967434 -0.11009638  0.56219423 ...  0.55655026  1.40175329\n",
            "   1.66030845]]\n"
          ]
        }
      ]
    },
    {
      "cell_type": "code",
      "source": [
        "from sklearn.model_selection import train_test_split\n",
        "x_train,x_test,y_train,y_test=train_test_split(x,y,test_size=0.2,random_state=42)"
      ],
      "metadata": {
        "id": "1bCmN8qyj8Af"
      },
      "execution_count": 21,
      "outputs": []
    },
    {
      "cell_type": "code",
      "source": [
        "import pandas as pd\n",
        "from sklearn.neighbors import KNeighborsClassifier\n",
        "from sklearn.impute import SimpleImputer\n",
        "from sklearn.preprocessing import LabelEncoder\n",
        "from sklearn.model_selection import train_test_split\n",
        "y = d['Patient_Status']\n",
        "x = d.drop('Patient_Status', axis=1)\n",
        "x_train, x_test, y_train, y_test = train_test_split(x, y, test_size=0.2, random_state=42)\n",
        "imputer = SimpleImputer(strategy='mean')\n",
        "x_train = imputer.fit_transform(x_train)\n",
        "x_test = imputer.transform(x_test)\n",
        "label_encoder = LabelEncoder()\n",
        "y_train = label_encoder.fit_transform(y_train)\n",
        "imputer_y = SimpleImputer(strategy='most_frequent')\n",
        "y_test = imputer_y.fit_transform(y_test.values.reshape(-1, 1))\n",
        "y_test = y_test.ravel()\n",
        "knn = KNeighborsClassifier(n_neighbors=5)\n",
        "knn.fit(x_train, y_train)\n",
        "y_pred = knn.predict(x_test)\n",
        "accuracy = knn.score(x_test, y_test)\n",
        "print(accuracy)"
      ],
      "metadata": {
        "colab": {
          "base_uri": "https://localhost:8080/"
        },
        "id": "K0BHz6k7l5Sy",
        "outputId": "a2789b18-780a-46e0-bc1d-f51f640d8bc9"
      },
      "execution_count": 34,
      "outputs": [
        {
          "output_type": "stream",
          "name": "stdout",
          "text": [
            "0.7761194029850746\n"
          ]
        }
      ]
    },
    {
      "cell_type": "code",
      "source": [
        "from sklearn.metrics import confusion_matrix\n",
        "cm=confusion_matrix(y_test,y_pred)\n",
        "print(cm)"
      ],
      "metadata": {
        "colab": {
          "base_uri": "https://localhost:8080/"
        },
        "id": "AMdu7YcRpaLz",
        "outputId": "a559bc17-3117-48e4-98fb-7700c9f6e4a0"
      },
      "execution_count": 35,
      "outputs": [
        {
          "output_type": "stream",
          "name": "stdout",
          "text": [
            "[[ 0 12]\n",
            " [ 3 52]]\n"
          ]
        }
      ]
    },
    {
      "cell_type": "code",
      "source": [
        "from sklearn.metrics import classification_report\n",
        "cr=classification_report(y_test,y_pred)\n",
        "print(cr)"
      ],
      "metadata": {
        "colab": {
          "base_uri": "https://localhost:8080/"
        },
        "id": "rOktQU34pgtT",
        "outputId": "f67f4b14-0087-423c-9051-72db6d1cc549"
      },
      "execution_count": 36,
      "outputs": [
        {
          "output_type": "stream",
          "name": "stdout",
          "text": [
            "              precision    recall  f1-score   support\n",
            "\n",
            "         0.0       0.00      0.00      0.00        12\n",
            "         1.0       0.81      0.95      0.87        55\n",
            "\n",
            "    accuracy                           0.78        67\n",
            "   macro avg       0.41      0.47      0.44        67\n",
            "weighted avg       0.67      0.78      0.72        67\n",
            "\n"
          ]
        }
      ]
    }
  ]
}